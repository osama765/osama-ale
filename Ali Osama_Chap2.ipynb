{
 "cells": [
  {
   "cell_type": "code",
   "execution_count": 1,
   "metadata": {},
   "outputs": [
    {
     "name": "stdout",
     "output_type": "stream",
     "text": [
      "15\n",
      "20.333333333333332\n",
      "5\n",
      "5.52054794520548\n",
      "1024\n",
      "3\n"
     ]
    },
    {
     "data": {
      "text/plain": [
       "29.95"
      ]
     },
     "execution_count": 1,
     "metadata": {},
     "output_type": "execute_result"
    }
   ],
   "source": [
    "#EXERCISE 2.1[a]\n",
    "a=(1+2+3+4+5)\n",
    "print(a)\n",
    "\n",
    "#(b)\n",
    "sara=23\n",
    "mark=19\n",
    "fatima=31\n",
    "avg=((sara+mark+mark)/3)\n",
    "print(avg)\n",
    "#c\n",
    "a=73\n",
    "b=403\n",
    "c=403//73\n",
    "print(c)\n",
    "#d\n",
    "a=73\n",
    "b=403\n",
    "c=403/73\n",
    "print(c)\n",
    "#e\n",
    "a=2**10\n",
    "print(a)\n",
    "#f\n",
    "height_of_sara=54\n",
    "height_of_mark=57\n",
    "d=(height_of_mark-height_of_sara)\n",
    "print(d)\n",
    "#g\n",
    "a=34.99#in dollars\n",
    "b=29.95#in dollars\n",
    "c=31.50#in dollars\n",
    "min(a,b,c)\n"
   ]
  },
  {
   "cell_type": "code",
   "execution_count": 2,
   "metadata": {},
   "outputs": [
    {
     "name": "stdout",
     "output_type": "stream",
     "text": [
      "antbatcod\n",
      "('ant', 'bat', 'cod')\n",
      "antantantantantantantantantant\n",
      "antantantantantantantantantant\n",
      "ant batbat codcodcod\n",
      "antbatbatbatbatcodcodcodcodcodcodcodcodcod\n",
      "('ant', 'bad', 'ant', 'bad', 'ant', 'bad', 'ant', 'bad', 'ant', 'bad', 'ant', 'bad', 'ant', 'bad')\n",
      "batbatcodbatbatcodbatbatcodbatbatcodbatbatcod\n",
      "batbatbatbatcodcodcodbatbatbatbatcodcodcodbatbatbatbatcodcodcodbatbatbatbatcodcodcodbatbatbatbatcodcodcod\n"
     ]
    }
   ],
   "source": [
    "#exercise 2.4\n",
    "s1=('ant')\n",
    "s2=('bat')\n",
    "s3=('cod')\n",
    "S=(s1+s2+s3)\n",
    "print(S)\n",
    "S1=(s1,s2,s3)*1\n",
    "print(S1)\n",
    "s1=('ant')*10\n",
    "print(s1)\n",
    "a=('ant')\n",
    "print(a+a+a+a+a+a+a+a+a+a)\n",
    "s1=('ant')*1\n",
    "s2=('bat')*2\n",
    "s3=('cod')*3\n",
    "print(s1,s2,s3)\n",
    "a=(s1+s2+s2+s3+s3+s3)\n",
    "print(a)\n",
    "s=('ant','bad')*7\n",
    "print(s)\n",
    "a=(s1+s1+s1+s1+s1+s1+s1+s2+s2+s2+s2+s2+s2+s2)\n",
    "s=('batbatcod')*5\n",
    "print(s)\n",
    "a=((s2*2)+s3)+((s2*2)+s3)+((s2*2)+s3)+((s2*2)+s3)+((s2*2)+s3)\n",
    "print(a)"
   ]
  },
  {
   "cell_type": "code",
   "execution_count": 3,
   "metadata": {},
   "outputs": [
    {
     "name": "stdout",
     "output_type": "stream",
     "text": [
      "25\n"
     ]
    }
   ],
   "source": [
    "#exercise 2.3\n",
    "a=3\n",
    "b=4\n",
    "c=(a*a)+(b*b)\n",
    "print(c)"
   ]
  },
  {
   "cell_type": "code",
   "execution_count": 4,
   "metadata": {},
   "outputs": [
    {
     "name": "stdout",
     "output_type": "stream",
     "text": [
      "false\n",
      "true\n",
      "true\n",
      "false\n",
      "true\n",
      "false\n",
      "true\n"
     ]
    }
   ],
   "source": [
    "#exercise 2.2(a)\n",
    "a=2\n",
    "b=2\n",
    "sum=a+b\n",
    "if sum<4:\n",
    "    print('true')\n",
    "else:\n",
    "    print('false')\n",
    "#(b)\n",
    "a=7//3\n",
    "if a==2:\n",
    "    print('true')\n",
    "else:\n",
    "    print('false')\n",
    "#(c)\n",
    "a=3**2\n",
    "b=4**2\n",
    "sum=(a+b)\n",
    "if sum==25:\n",
    "    print('true')\n",
    "else:\n",
    "    print('false')\n",
    "#(d)\n",
    "a=2\n",
    "b=4\n",
    "c=6\n",
    "sum=(a+b+c)\n",
    "if sum>12:\n",
    "    print('true')\n",
    "else:\n",
    "    print('false')\n",
    "#(e)\n",
    "a=1387\n",
    "b=19\n",
    "c=a+b\n",
    "if c==a+b:\n",
    "    print('true')\n",
    "else:\n",
    "    print('false')\n",
    "#(f)\n",
    "a=31\n",
    "if a==31/2:\n",
    "    print('true')\n",
    "else:\n",
    "    print('false')\n",
    "#(g)\n",
    "a=34.99#in dollars\n",
    "b=29.95#in dollars\n",
    "c=31.50#in dollars\n",
    "min(a,b,c,)\n",
    "if min(a,b,c)<30:\n",
    "    print('true')\n",
    "else:\n",
    "    print('false')"
   ]
  },
  {
   "cell_type": "code",
   "execution_count": 5,
   "metadata": {},
   "outputs": [
    {
     "name": "stdout",
     "output_type": "stream",
     "text": [
      "01689\n"
     ]
    }
   ],
   "source": [
    "#exercise 2.5(a)(b)(c)(d)(e)\n",
    "a=(\"0123456789\")\n",
    "a[0]\n",
    "print(a[0]+a[1]+a[6]+a[8]+a[9])\n"
   ]
  },
  {
   "cell_type": "code",
   "execution_count": 6,
   "metadata": {},
   "outputs": [
    {
     "data": {
      "text/plain": [
       "{'badminton', 'ball', 'barn', 'basket', 'bat'}"
      ]
     },
     "execution_count": 6,
     "metadata": {},
     "output_type": "execute_result"
    }
   ],
   "source": [
    "#exercise 2.6\n",
    "words={'bat','ball','barn','basket','badminton'}\n",
    "(words)"
   ]
  },
  {
   "cell_type": "code",
   "execution_count": 7,
   "metadata": {},
   "outputs": [
    {
     "name": "stdout",
     "output_type": "stream",
     "text": [
      "2\n",
      "4\n",
      "10\n",
      "None\n",
      "6.777777777777778\n"
     ]
    }
   ],
   "source": [
    "#exercise 2.7\n",
    "grades=[9,7,7,10,3,9,6,6,2]\n",
    "#(a)\n",
    "a=grades.count(7)\n",
    "print(a)\n",
    "#(b)\n",
    "a=grades[-1]=4\n",
    "print(a)\n",
    "#(c)\n",
    "a=max(grades)\n",
    "print(a)\n",
    "#d\n",
    "a=grades.sort()\n",
    "print(a)\n",
    "#e\n",
    "import statistics\n",
    "print(statistics.mean(grades))"
   ]
  },
  {
   "cell_type": "code",
   "execution_count": 8,
   "metadata": {},
   "outputs": [
    {
     "name": "stdout",
     "output_type": "stream",
     "text": [
      "<class 'int'>\n",
      "<class 'float'>\n",
      "<class 'int'>\n",
      "<class 'bool'>\n"
     ]
    }
   ],
   "source": [
    "#exercise 2.9\n",
    "a=False+False\n",
    "print(type(a))\n",
    "(b)\n",
    "b=2*3**2.0\n",
    "print(type(b))\n",
    "(c)\n",
    "c=4//2+4%2\n",
    "print(type(c))\n",
    "d=2+3==4 or 5 >=5\n",
    "print(type(d))"
   ]
  },
  {
   "cell_type": "code",
   "execution_count": 9,
   "metadata": {},
   "outputs": [
    {
     "name": "stdout",
     "output_type": "stream",
     "text": [
      "8\n",
      "false\n",
      "28.274333882308138m^2\n",
      "False\n",
      "False\n"
     ]
    }
   ],
   "source": [
    "#exercise 2.10(a)\n",
    "a=2\n",
    "b=2\n",
    "c=a**2+b**2\n",
    "print(c)\n",
    "(b)\n",
    "if c==5:\n",
    "    print('true')\n",
    "else:\n",
    "    print('false')\n",
    "(c)\n",
    "from math import pi\n",
    "r=3\n",
    "area=pi*r**2\n",
    "print(str(area)+'m^2')\n",
    "(d)\n",
    "# D\n",
    "r=10\n",
    "x=2\n",
    "y=1\n",
    "a=x+y==r\n",
    "b=x**2+y**2==r**2\n",
    "print(a)\n",
    "print(b)\n"
   ]
  },
  {
   "cell_type": "code",
   "execution_count": 10,
   "metadata": {},
   "outputs": [
    {
     "name": "stdout",
     "output_type": "stream",
     "text": [
      "a) ((2+3) ==4) or (a >=5)\n",
      "b) (((lst[1]) * (-3)) <(-10)) ==0\n",
      "c) (((lst[1]) * (-3)) <(-10)) in [0,true]\n",
      "d) 2 * (3**2)\n",
      "e) (4/2) in [1,2,3]\n"
     ]
    }
   ],
   "source": [
    "#exercise 2.8\n",
    "print('a)','((2+3) ==4) or (a >=5)')\n",
    "print('b)','(((lst[1]) * (-3)) <(-10)) ==0')\n",
    "print('c)',\"(((lst[1]) * (-3)) <(-10)) in [0,true]\")\n",
    "print('d)','2 * (3**2)')\n",
    "print('e)','(4/2) in [1,2,3]')\n"
   ]
  },
  {
   "cell_type": "code",
   "execution_count": 11,
   "metadata": {},
   "outputs": [
    {
     "name": "stdout",
     "output_type": "stream",
     "text": [
      "[-28]\n",
      "127.76470588235294\n",
      "9.5367431640625e-07\n",
      "71\n",
      "34\n"
     ]
    }
   ],
   "source": [
    "#exercises 2.11\n",
    "\n",
    "\n",
    "lst =[-7-6-5-4-3-2-1]\n",
    "print(lst)\n",
    "average_age = 9*17+24*10+21*11+27*12\n",
    "x = average1 = average_age/17+24+21+27\n",
    "print(average1)\n",
    "a = 2**-20\n",
    "print(a)\n",
    "b = 4356//61\n",
    "print(b)\n",
    "c = 4365%61 \n",
    "print(c)"
   ]
  },
  {
   "cell_type": "code",
   "execution_count": 12,
   "metadata": {},
   "outputs": [
    {
     "name": "stdout",
     "output_type": "stream",
     "text": [
      "+-\n",
      "-+-\n",
      "+--\n",
      "+--+--\n",
      "+--+--+--+--+--\n"
     ]
    }
   ],
   "source": [
    "#exercise 2.12\n",
    "a = '+'\n",
    "b = '-'\n",
    "print(a+b)\n",
    "print(b+a+b)\n",
    "print(a+b+b)\n",
    "print(a+b+b+a+b+b)\n",
    "print(a+b+b+a+b+b+a+b+b+a+b+b+a+b+b)"
   ]
  },
  {
   "cell_type": "code",
   "execution_count": 13,
   "metadata": {},
   "outputs": [
    {
     "name": "stdout",
     "output_type": "stream",
     "text": [
      "a\n",
      "c\n",
      "y\n",
      "z\n",
      "q\n"
     ]
    }
   ],
   "source": [
    "#exercise 2.13\n",
    "s = 'abcdefghijklmnopqrstuvwxyz'\n",
    "print(s[0])\n",
    "print(s[2])\n",
    "print(s[24])\n",
    "print(s[25])\n",
    "print(s[16])"
   ]
  },
  {
   "cell_type": "code",
   "execution_count": 14,
   "metadata": {},
   "outputs": [
    {
     "name": "stdout",
     "output_type": "stream",
     "text": [
      "True\n",
      "False\n",
      "False\n",
      "False\n",
      "True\n",
      "False\n",
      "False\n"
     ]
    }
   ],
   "source": [
    "#Exercise number 2.14\n",
    "s = 'goodbye'\n",
    "print(s[0]=='g')\n",
    "print(s[6]=='g')\n",
    "print(s[0]=='g' and s[1]=='a')\n",
    "print(s[-2]=='x')\n",
    "print(s[3]=='d')\n",
    "print(s[0]==s[1])\n",
    "print(s[1]+s[2]+s[3]+s[4]=='tion')"
   ]
  },
  {
   "cell_type": "code",
   "execution_count": 15,
   "metadata": {},
   "outputs": [
    {
     "name": "stdout",
     "output_type": "stream",
     "text": [
      "number of characters : 17\n",
      "the number of characters : 15\n",
      "\\dictionary gives the word in yhis order\n",
      "['mis interpretation', 'misrepresentation']\n",
      "the number of time e repeates in is ﬂoccinaucinihilipiliﬁcation\n",
      "the number of characters are : 17\n",
      "the number of characters arev : 10\n"
     ]
    }
   ],
   "source": [
    "#Exercise number 2.15\n",
    "a = 'anachronistically'\n",
    "b = 'counterintutive'\n",
    "print(\"number of characters : \"+str(len(a)))\n",
    "print(\"the number of characters : \"+str(len(b)))\n",
    "\n",
    "dictionary = ['misrepresentation','mis interpretation' ]\n",
    "dictionary.sort()\n",
    "print(\"\\dictionary gives the word in yhis order\")\n",
    "print(dictionary)\n",
    "word = 'ﬂoccinaucinihilipiliﬁcation'\n",
    "print(\"the number of time e repeates in is \"+str(word))\n",
    "word1 = 'counterrevolution'\n",
    "word2 = 'resolution'\n",
    "print(\"the number of characters are : \" +str(len(word1)))\n",
    "print(\"the number of characters arev : \"+str(len(word2)))"
   ]
  },
  {
   "cell_type": "code",
   "execution_count": 16,
   "metadata": {},
   "outputs": [
    {
     "name": "stdout",
     "output_type": "stream",
     "text": [
      "John 'Fitzgerald kennedy\n"
     ]
    }
   ],
   "source": [
    "#Exercise no 2.16\n",
    "a,b =6,7\n",
    "c = (a+b)/2\n",
    "inventory = [\"paper\",\"staples\",\"pencils\"]\n",
    "first, middle, last = \"John\",\"'Fitzgerald\",\"kennedy\"\n",
    "fullname = first+\" \"+middle+\" \"+last\n",
    "print(fullname)"
   ]
  },
  {
   "cell_type": "code",
   "execution_count": 17,
   "metadata": {},
   "outputs": [
    {
     "name": "stdout",
     "output_type": "stream",
     "text": [
      "True\n",
      "False\n",
      "True\n",
      "False\n",
      "False\n",
      "False\n"
     ]
    }
   ],
   "source": [
    "#exercise 2.17\n",
    "\n",
    "a=7-9 < 10\n",
    "print(a)\n",
    "b=len(inventory) > 5*len(fullname)\n",
    "print(b)\n",
    "c=c <= 24\n",
    "print(c)\n",
    "d=(6.75 < a and 6.75 > b) or (6.75 < b and 6.75 > a)\n",
    "print(d)\n",
    "e=len(middle) > len(first) and len(middle) < len(last)\n",
    "print(e)\n",
    "f=len(inventory)==0 or len(inventory) > 10\n",
    "print(f)\n"
   ]
  },
  {
   "cell_type": "code",
   "execution_count": 18,
   "metadata": {},
   "outputs": [
    {
     "name": "stdout",
     "output_type": "stream",
     "text": [
      "a) ['rose', 'bougainvillea', 'yucca', 'marigold', 'daylilly', 'liiy of the valley']\n",
      "b) False\n",
      "c) ['rose', 'bougainvillea', 'yucca']\n",
      "d) liiy of the valley\n"
     ]
    }
   ],
   "source": [
    "#Exercise no 2.18\n",
    "flowers = ['rose','bougainvillea','yucca','marigold','daylilly','liiy of the valley']\n",
    "print('a)',flowers)\n",
    "print('b)','potato' in flowers)\n",
    "thorny=flowers[:3]\n",
    "print('c)',thorny)\n",
    "poisnous = flowers[-1]\n",
    "print('d)',poisnous)\n",
    "dangerous = [thorny] + [poisnous]\n",
    "\n",
    "      "
   ]
  },
  {
   "cell_type": "code",
   "execution_count": 19,
   "metadata": {},
   "outputs": [
    {
     "name": "stdout",
     "output_type": "stream",
     "text": [
      "a) 0\n",
      "b) 6\n",
      "c) 0.0 %\n",
      "d) ['N', 'N', 'N', 'N', 'N', 'N', 'Y', 'Y', 'Y', 'Y', 'Y']\n",
      "e) at 6 Y will occur for the first time\n"
     ]
    }
   ],
   "source": [
    "#exercise no 2.19\n",
    "answers = ['Y','N','N','Y','N','Y','Y','Y','N','N','N']\n",
    "numYes=answers.count('y')\n",
    "print('a)',numYes)\n",
    "numNo=answers.count('N')\n",
    "print('b)',numNo)\n",
    "percentYes=(numYes/len(answers))*100\n",
    "print('c)',percentYes,'%')\n",
    "answers.sort()\n",
    "print('d)',answers)\n",
    "f=answers.count('N')\n",
    "print('e)',\"at\",f,answers[f],\"will occur for the first time\")"
   ]
  },
  {
   "cell_type": "code",
   "execution_count": 20,
   "metadata": {},
   "outputs": [
    {
     "name": "stdout",
     "output_type": "stream",
     "text": [
      "Ao\n"
     ]
    }
   ],
   "source": [
    "#execise no 2.21\n",
    "s = 'Ali'\n",
    "t = 'osama'\n",
    "print(s[0]+t[0])"
   ]
  },
  {
   "cell_type": "code",
   "execution_count": 21,
   "metadata": {},
   "outputs": [
    {
     "name": "stdout",
     "output_type": "stream",
     "text": [
      "14\n"
     ]
    }
   ],
   "source": [
    "#2.22\n",
    "lst = [3,7,-2,12]\n",
    "print(max(lst)-min(lst))\n"
   ]
  },
  {
   "cell_type": "code",
   "execution_count": 22,
   "metadata": {},
   "outputs": [
    {
     "name": "stdout",
     "output_type": "stream",
     "text": [
      "top\n"
     ]
    }
   ],
   "source": [
    "#exercise 2.20\n",
    "s='pot'\n",
    "print(s[::-1])"
   ]
  },
  {
   "cell_type": "code",
   "execution_count": 23,
   "metadata": {},
   "outputs": [
    {
     "name": "stdout",
     "output_type": "stream",
     "text": [
      "['Jan', 'Feb', 'Mar', 'Apr', 'May']\n",
      "['Jan', 'Feb', 'Mar', 'May', 'Jun']\n",
      "['Jan', 'Feb', 'Mar']\n",
      "['Jan', 'Feb', 'Mar']\n",
      "['Jan', 'Feb', 'May']\n",
      "['Jan', 'Feb', 'May']\n",
      "['May', 'Mar', 'Feb', 'Jan']\n",
      "['May', 'Mar', 'Feb', 'Jan']\n",
      "['Feb', 'Jan', 'Mar', 'May']\n",
      "['Feb', 'Jan', 'Mar', 'May']\n"
     ]
    }
   ],
   "source": [
    "#insert 'Apr' between 'Mar' and 'May'\n",
    "monthsL=['Jan','Feb','Mar','May']\n",
    "monthsT=['Jan','Feb','Mar','May']\n",
    "monthsT.insert(3,\"Apr\")\n",
    "print(monthsT)\n",
    "#append string 'Jun'\n",
    "monthsL=['Jan','Feb','Mar','May']\n",
    "monthsT=['Jan','Feb','Mar','May']\n",
    "monthsT.append(\"Jun\")\n",
    "print(monthsT)\n",
    "#pop the container\n",
    "monthsL=['Jan','Feb','Mar','May']\n",
    "monthsT=['Jan','Feb','Mar','May']\n",
    "monthsL.pop()\n",
    "monthsT.pop()\n",
    "print(monthsL)\n",
    "print(monthsT)\n",
    "#remove the second item in the container\n",
    "monthsL=['Jan','Feb','Mar','May']\n",
    "monthsT=['Jan','Feb','Mar','May']\n",
    "del monthsT[2]\n",
    "del monthsL[2]\n",
    "print(monthsT)\n",
    "print(monthsL)\n",
    "#reverse the order of the container\n",
    "monthsL=['Jan','Feb','Mar','May']\n",
    "monthsT=['Jan','Feb','Mar','May']\n",
    "monthsL.reverse()\n",
    "monthsT.reverse()\n",
    "print(monthsL)\n",
    "print(monthsT)\n",
    "#sort the container\n",
    "monthsL=['Jan','Feb','Mar','May']\n",
    "monthsT=['Jan','Feb','Mar','May']\n",
    "monthsL.sort()\n",
    "monthsT.sort()\n",
    "print(monthsL)\n",
    "print(monthsT)"
   ]
  },
  {
   "cell_type": "code",
   "execution_count": 25,
   "metadata": {},
   "outputs": [
    {
     "name": "stdout",
     "output_type": "stream",
     "text": [
      "Enter Length of the Ladder : 7\n",
      "Enter Angle of the Ladder : 4\n",
      "The height of the Ladder is : 0.4882953162088771\n",
      "1.3091666666666666\n",
      "0.0\n",
      "0.7855\n",
      "1.3964444444444444\n"
     ]
    }
   ],
   "source": [
    "import math\n",
    "hyp = float(input(\"Enter Length of the Ladder : \"))\n",
    "theta = float(input(\"Enter Angle of the Ladder : \"))\n",
    "rad = math.pi * (theta)/180\n",
    "perp = hyp * math.sin(rad)\n",
    "print (\"The height of the Ladder is :\", perp)\n",
    "\n",
    "# A\n",
    "length1=16\n",
    "degrees1=75\n",
    "radians1=(3.142*degrees1)/180\n",
    "print(radians1)\n",
    "\n",
    "# B\n",
    "length2=20\n",
    "degrees2=0\n",
    "radians2=(3.142*degrees2)/180\n",
    "print(radians2)\n",
    "\n",
    "# C\n",
    "length3=24\n",
    "degrees3=45\n",
    "radians3=(3.142*degrees3)/180\n",
    "print(radians3)\n",
    "\n",
    "# D\n",
    "length4=24\n",
    "degrees4=80\n",
    "radians4=(3.142*degrees4)/180\n",
    "print(radians4)"
   ]
  },
  {
   "cell_type": "code",
   "execution_count": 26,
   "metadata": {},
   "outputs": [
    {
     "name": "stdout",
     "output_type": "stream",
     "text": [
      "2\n",
      "3\n",
      "['5', '4', '3', '2', '1']\n",
      "['4', '3', '2', '1', '1']\n"
     ]
    }
   ],
   "source": [
    "# A\n",
    "list=['1','2','3','4','5']\n",
    "print(list.index('3'))\n",
    "\n",
    "# B\n",
    "print(list[2])\n",
    "\n",
    "# C\n",
    "list.sort(reverse=True)\n",
    "print(list)\n",
    "\n",
    "# D\n",
    "list.remove(list[0])\n",
    "list.insert(4,'1')\n",
    "print(list)"
   ]
  },
  {
   "cell_type": "code",
   "execution_count": 27,
   "metadata": {},
   "outputs": [
    {
     "data": {
      "text/plain": [
       "[2, 3, 4, 5, 6]"
      ]
     },
     "execution_count": 27,
     "metadata": {},
     "output_type": "execute_result"
    }
   ],
   "source": [
    "lst=[2,3,4]\n",
    "lst.extend([5,6])\n",
    "lst\n",
    "[2,3,4,5,6]\n",
    "lst2=lst.copy()\n",
    "lst2\n",
    "[2,3,4,5,6]\n",
    "lst.clear()\n",
    "lst\n",
    "[]\n",
    "lst2\n",
    "[2,3,4,5,6]"
   ]
  },
  {
   "cell_type": "code",
   "execution_count": 28,
   "metadata": {},
   "outputs": [
    {
     "name": "stdout",
     "output_type": "stream",
     "text": [
      "True\n",
      "True\n",
      "True\n"
     ]
    }
   ],
   "source": [
    "# A\n",
    "a=0==(1==2)\n",
    "print(a)\n",
    "\n",
    "# B\n",
    "b=2+(3==4)+5==7\n",
    "print(b)\n",
    "\n",
    "# C\n",
    "c=(1<-1)==(3>4)\n",
    "print(c)"
   ]
  }
 ],
 "metadata": {
  "kernelspec": {
   "display_name": "Python 3",
   "language": "python",
   "name": "python3"
  },
  "language_info": {
   "codemirror_mode": {
    "name": "ipython",
    "version": 3
   },
   "file_extension": ".py",
   "mimetype": "text/x-python",
   "name": "python",
   "nbconvert_exporter": "python",
   "pygments_lexer": "ipython3",
   "version": "3.7.4"
  }
 },
 "nbformat": 4,
 "nbformat_minor": 2
}
